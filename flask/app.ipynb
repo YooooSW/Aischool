{
 "cells": [
  {
   "cell_type": "code",
   "execution_count": 1,
   "metadata": {},
   "outputs": [],
   "source": [
    "from flask import Flask, render_template, request\n",
    "import requests\n",
    "\n"
   ]
  },
  {
   "cell_type": "code",
   "execution_count": 5,
   "metadata": {},
   "outputs": [
    {
     "name": "stdout",
     "output_type": "stream",
     "text": [
      " * Serving Flask app '__main__'\n",
      " * Debug mode: on\n"
     ]
    },
    {
     "name": "stderr",
     "output_type": "stream",
     "text": [
      "WARNING: This is a development server. Do not use it in a production deployment. Use a production WSGI server instead.\n",
      " * Running on http://192.168.20.9:5000\n",
      "Press CTRL+C to quit\n",
      "[2024-07-09 15:28:39,217] ERROR in 1900807967: An error occurred: Expecting value: line 1 column 1 (char 0)\n",
      "192.168.20.9 - - [09/Jul/2024 15:28:39] \"GET / HTTP/1.1\" 200 -\n"
     ]
    }
   ],
   "source": [
    "import logging\n",
    "from flask import Flask, render_template, request\n",
    "import requests\n",
    "\n",
    "app = Flask(__name__)\n",
    "\n",
    "@app.route('/')\n",
    "def index():\n",
    "    try:\n",
    "        # API 요청 파라미터 설정\n",
    "        params = {\n",
    "            \"openApiVlak\": \"5c66b3083243d10e3543979d\",  # 실제 인증키로 대체\n",
    "            \"display\": 10,\n",
    "            \"pageIndex\": 1,\n",
    "            \"query\": request.args.get('query', '')  # 검색어가 있을 경우 추가\n",
    "        }\n",
    "\n",
    "        # API 호출\n",
    "        response = requests.get(\"https://www.youthcenter.go.kr/opi/youthPlcyList.do\", params=params)\n",
    "        response.raise_for_status()  # HTTP 오류가 발생하면 예외 발생\n",
    "        data = response.json()\n",
    "\n",
    "        # 디버그를 위해 응답 데이터 출력\n",
    "        app.logger.debug(data)\n",
    "\n",
    "        # 청년 정책 목록 추출\n",
    "        policies = data.get('youthPolicyList', [])\n",
    "\n",
    "        return render_template('index1.html', policies=policies)\n",
    "\n",
    "    except requests.exceptions.RequestException as e:\n",
    "        # 요청 예외 처리\n",
    "        app.logger.error(f\"An error occurred: {e}\")\n",
    "        return f\"An error occurred: {e}\"\n",
    "\n",
    "    except Exception as e:\n",
    "        # 일반 예외 처리\n",
    "        app.logger.error(f\"An unexpected error occurred: {e}\")\n",
    "        return f\"An unexpected error occurred: {e}\"\n",
    "\n",
    "if __name__ == '__main__':\n",
    "    try:\n",
    "        app.run(port=5000, host=\"192.168.20.9\", debug=True, use_reloader=False)\n",
    "    except Exception as e:\n",
    "        app.logger.error(f\"Failed to start Flask application: {e}\")\n",
    "        raise\n"
   ]
  },
  {
   "cell_type": "code",
   "execution_count": null,
   "metadata": {},
   "outputs": [],
   "source": []
  }
 ],
 "metadata": {
  "kernelspec": {
   "display_name": "flask",
   "language": "python",
   "name": "python3"
  },
  "language_info": {
   "codemirror_mode": {
    "name": "ipython",
    "version": 3
   },
   "file_extension": ".py",
   "mimetype": "text/x-python",
   "name": "python",
   "nbconvert_exporter": "python",
   "pygments_lexer": "ipython3",
   "version": "3.9.19"
  }
 },
 "nbformat": 4,
 "nbformat_minor": 2
}
